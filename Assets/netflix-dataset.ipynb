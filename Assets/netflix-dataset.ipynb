{
 "cells": [
  {
   "cell_type": "markdown",
   "id": "4d5d0f9c",
   "metadata": {
    "papermill": {
     "duration": 0.005242,
     "end_time": "2022-06-01T08:49:27.345585",
     "exception": false,
     "start_time": "2022-06-01T08:49:27.340343",
     "status": "completed"
    },
    "tags": []
   },
   "source": [
    "**For this project I practiced with the Dataset Netflix Top 10 and got inspired by Rabiat Ahmed.**\n",
    "\n",
    "I analyzed Netflix daily top 10 in America during the pandemic. Here are a few things I wanted to find out:\n",
    "\n",
    "* Number of titles\n",
    "* Top ten titles\n",
    "* Top ten least titles\n",
    "* How many of them were Netflix exclusive and Not\n",
    "* Most watched type\n",
    "* Top 10 Tv Shows\n",
    "* Top 10 Movies\n",
    "* Top 6 Stand-Up Comedy\n",
    "\n",
    "\n",
    "The time frame of the data is from 2020-04-01 to 2022-03-11. The dataset is a public dataset made available through Prasert Kanawattanachai on Kaggle."
   ]
  },
  {
   "cell_type": "code",
   "execution_count": 1,
   "id": "6508cad5",
   "metadata": {
    "execution": {
     "iopub.execute_input": "2022-06-01T08:49:27.358617Z",
     "iopub.status.busy": "2022-06-01T08:49:27.356103Z"
    },
    "papermill": {
     "duration": null,
     "end_time": null,
     "exception": false,
     "start_time": "2022-06-01T08:49:27.349198",
     "status": "running"
    },
    "tags": []
   },
   "outputs": [
    {
     "name": "stderr",
     "output_type": "stream",
     "text": [
      "Installing package into ‘/usr/local/lib/R/site-library’\n",
      "(as ‘lib’ is unspecified)\n",
      "\n"
     ]
    },
    {
     "name": "stderr",
     "output_type": "stream",
     "text": [
      "Warning message:\n",
      "“unable to access index for repository http://cran.rstudio.com/src/contrib:\n",
      "  cannot open URL 'http://cran.rstudio.com/src/contrib/PACKAGES'”\n"
     ]
    }
   ],
   "source": [
    "# Install tidyverse, ggplot2 and dplyr and load them\n",
    "\n",
    "install.packages(\"tidyverse\")\n",
    "install.packages(\"ggplot2\")\n",
    "install.packages(\"dplyr\")\n",
    "\n",
    "library(tidyverse)\n",
    "library(magrittr)\n",
    "library(readr)\n",
    "library(dplyr)\n",
    "library(ggplot2)"
   ]
  },
  {
   "cell_type": "code",
   "execution_count": null,
   "id": "bbebb01c",
   "metadata": {
    "papermill": {
     "duration": null,
     "end_time": null,
     "exception": null,
     "start_time": null,
     "status": "pending"
    },
    "tags": []
   },
   "outputs": [],
   "source": [
    "# Load the data, I downloaded it to a zip file and uploaded it in R\n",
    "library(readr)\n",
    "\n",
    "netflix_data <- read_csv(\"netflix daily top 10.csv\")\n",
    "View(netflix_data)"
   ]
  },
  {
   "cell_type": "markdown",
   "id": "3e21944c",
   "metadata": {
    "papermill": {
     "duration": null,
     "end_time": null,
     "exception": null,
     "start_time": null,
     "status": "pending"
    },
    "tags": []
   },
   "source": [
    "## Cleaning"
   ]
  },
  {
   "cell_type": "code",
   "execution_count": null,
   "id": "d91cccbf",
   "metadata": {
    "papermill": {
     "duration": null,
     "end_time": null,
     "exception": null,
     "start_time": null,
     "status": "pending"
    },
    "tags": []
   },
   "outputs": [],
   "source": [
    "# cleaning the data\n",
    "netflix_data <- netflix_data %>% rename_with(tolower) %>%\n",
    "  rename(date = \"as of\",\n",
    "         year_to_date_rank = \"year to date rank\",\n",
    "         last_week_rank = \"last week rank\",\n",
    "         production = \"netflix exclusive\",\n",
    "         netflix_release_date = \"netflix release date\",\n",
    "         days_in_top_10 = \"days in top 10\",\n",
    "         viewership_score = \"viewership score\")\n",
    "    \n",
    "View(netflix_data)\n",
    "\n",
    "#replace NA values in production column to \"others\"\n",
    "netflix_data <- netflix_data %<>% mutate(production = fct_explicit_na(production, na_level = \"Others\"))\n",
    "View(netflix_data)\n",
    "\n",
    "#Check titles\n",
    "unique(netflix_data$title)\n",
    "\n",
    "# this code changes the yes under production to Netflix Exclusive and Others to Not Netflix Exlusive\n",
    "netflix_data <- mutate(netflix_data, production = recode(.x=production, \"Yes\" = \"Netflix Exclusive\"))\n",
    "netflix_data <- mutate(netflix_data, production = recode(.x=production, \"Others\" = \"Not Netflix Exclusive\"))"
   ]
  },
  {
   "cell_type": "code",
   "execution_count": null,
   "id": "7e95eba9",
   "metadata": {
    "papermill": {
     "duration": null,
     "end_time": null,
     "exception": null,
     "start_time": null,
     "status": "pending"
    },
    "tags": []
   },
   "outputs": [],
   "source": [
    "#Correct duplicate\n",
    "#Correct misspellings\n",
    "#Full spellings\n",
    "\n",
    "netflix_data <- mutate(netflix_data, title = recode(.x=title, \"Tiger King\"=\"Tiger King: Murder, Mayhem, and Madness\"))\n",
    "netflix_data <- mutate(netflix_data, title = recode(.x=title, \"Tiger King: Murder, Mayhem …\"=\"Tiger King: Murder, Mayhem, and Madness\"))\n",
    "netflix_data <- mutate(netflix_data, title = recode(.x=title, \"Jerry Seinfeld: 23 Hours to…\"=\"Jerry Seinfeld: 23 Hours to Kill\"))\n",
    "netflix_data <- mutate(netflix_data, title = recode(.x=title, \"George Lopez: Weâll Do It f…\"=\"George Lopez: We'll Do It for Half\"))\n",
    "netflix_data <- mutate(netflix_data, title = recode(.x=title, \"The Queenâs Gambit\"=\"The Queen's Gambit\"))\n",
    "netflix_data <- mutate(netflix_data, title = recode(.x=title, \"Workinâ Moms\"=\"Workin' Moms\"))\n",
    "netflix_data <- mutate(netflix_data, title = recode(.x=title, \"Greyâs Anatomy\"=\"Grey's Anatomy\"))\n",
    "netflix_data <- mutate(netflix_data, title = recode(.x=title, \"Cloudy with a Chance of Mea…\"=\"Cloudy with a Chance of Meatballs\"))\n",
    "netflix_data <- mutate(netflix_data, title = recode(.x=title, \"Have a Good Trip: Adventure…\"=\"Have a Good Trip: Adventures in Psychedelics\"))\n",
    "netflix_data <- mutate(netflix_data, title = recode(.x=title, \"The Last Days of American C…\"=\"The Last Days of American Crime\"))\n",
    "netflix_data <- mutate(netflix_data, title = recode(.x=title, \"PokÃ©mon Journeys: The Series\"=\"Pokemon Journeys: The Series\"))\n",
    "netflix_data <- mutate(netflix_data, title = recode(.x=title, \"Eurovision Song Contest: Th…\"=\"Eurovision Song Contest: The Story of Fire Saga\"))\n",
    "netflix_data <- mutate(netflix_data, title = recode(.x=title, \"I Now Pronounce You Chuck a…\"=\"I Now Pronounce You Chuck and Larry\"))\n",
    "netflix_data <- mutate(netflix_data, title = recode(.x=title, \"Murder to Mercy: The Cyntoi…\"=\"Murder to Mercy: The Cyntoia Brown Story\"))\n",
    "netflix_data <- mutate(netflix_data, title = recode(.x=title, \"Dr. Seussâ The Lorax\"=\"Dr. Seuss' The Lorax\"))\n",
    "netflix_data <- mutate(netflix_data, title = recode(.x=title, \"The Epic Tales of Captain U…\"=\"The Epic Tales of Captain Underpants\"))\n",
    "netflix_data <- mutate(netflix_data, title = recode(.x=title, \"Fear City: New York vs. The…\"=\"Fear City: New York vs The Mafia\"))\n",
    "netflix_data <- mutate(netflix_data, title = recode(.x=title, \"Transformers: War for Cyber…\"=\"Transformers: War for Cybertron\"))\n",
    "netflix_data <- mutate(netflix_data, title = recode(.x=title, \"Worldâs Most Wanted\"=\"Worlds Most Wanted\"))\n",
    "netflix_data <- mutate(netflix_data, title = recode(.x=title, \"Game On: A Comedy Crossover…\"=\"Game On: A Comedy Crossover Event\"))\n",
    "netflix_data <- mutate(netflix_data, title = recode(.x=title, \"Chefâs Table: BBQ\"=\"Chef's Table: BBQ\"))\n",
    "netflix_data <- mutate(netflix_data, title = recode(.x=title, \"Jurassic World: Camp Cretac…\"=\"Jurassic World Camp Cretaceous\"))\n",
    "netflix_data <- mutate(netflix_data, title = recode(.x=title, \"American Murder: The Family…\"=\"American Murder: The Family Next Door\"))\n",
    "netflix_data <- mutate(netflix_data, title = recode(.x=title, \"Schittâs Creek\"=\"Schitt's Creeks\"))\n",
    "netflix_data <- mutate(netflix_data, title = recode(.x=title, \"American Pie Presents: Girl…\"=\"American Pie Presents: Girls' Rules\"))\n",
    "netflix_data <- mutate(netflix_data, title = recode(.x=title, \"A Babysitterâs Guide to Mon…\"=\"A Babysitter's Guide to Monster Hunting\"))\n",
    "netflix_data <- mutate(netflix_data, title = recode(.x=title, \"My Next Guest Needs No Intr…\"=\"My Next Guest Needs No Introduction with David Letterman\"))\n",
    "netflix_data <- mutate(netflix_data, title = recode(.x=title, \"Chappelleâs Show\"=\"Chappelle's Show\"))\n",
    "netflix_data <- mutate(netflix_data, title = recode(.x=title, \"Illumination Presents The G…\"=\"Illumination Presents The Grinch\"))\n",
    "netflix_data <- mutate(netflix_data, title = recode(.x=title, \"Jingle Jangle: A Christmas …\"=\"Jingle Jangle: A Christmas Journey\"))\n",
    "netflix_data <- mutate(netflix_data, title = recode(.x=title, \"The Boss Baby: Back in Busi…\"=\"The Boss Baby: Back in Business\"))\n",
    "netflix_data <- mutate(netflix_data, title = recode(.x=title, \"The Princess Switch: Switch…\"=\"The Princess Switch: Switched Again\"))\n",
    "netflix_data <- mutate(netflix_data, title = recode(.x=title, \"Ma Raineyâs Black Bottom\"=\"Ma Rainey's Black Bottom\"))\n",
    "netflix_data <- mutate(netflix_data, title = recode(.x=title, \"Ariana Grande: Excuse Me, I…\"=\"Ariana Grande: Excuse Me, I Love You\"))\n",
    "netflix_data <- mutate(netflix_data, title = recode(.x=title, \"Jenni Rivera: Mariposa de B…\"=\"Jenni Rivera: Mariposa de Barrio\"))\n",
    "netflix_data <- mutate(netflix_data, title = recode(.x=title, \"Night Stalker: The Hunt for…\"=\"Night Stalker: The Hunt for a Serial Killer\"))\n",
    "netflix_data <- mutate(netflix_data, title = recode(.x=title, \"Finding âOhana\"=\"Finding 'Ohana\"))\n",
    "netflix_data <- mutate(netflix_data, title = recode(.x=title, \"Crime Scene: The Vanishing …\"=\"Crime Scene: The Vanishing at the Cecil Hotel\"))\n",
    "netflix_data <- mutate(netflix_data, title = recode(.x=title, \"To All the Boys Always and …\"=\"To All the Boys: Always and Forever\"))\n",
    "netflix_data <- mutate(netflix_data, title = recode(.x=title, \"Animals on the Loose: A You…\"=\"Animals on the Loose: A You vs. Wild Movie\"))\n",
    "netflix_data <- mutate(netflix_data, title = recode(.x=title, \"Age of Samurai: Battle for …\"=\"Age of Samurai: Battle for Japan\"))\n",
    "netflix_data <- mutate(netflix_data, title = recode(.x=title, \"This is a Robbery: The Worl…\"=\"This is a Robbery: The World's Biggest Art Heist\"))\n",
    "netflix_data <- mutate(netflix_data, title = recode(.x=title, \"Life in Color with David At…\"=\"Life in Color with David Attenborough\"))\n",
    "netflix_data <- mutate(netflix_data, title = recode(.x=title, \"Madagascar 3: Europe's Most…\"=\"Madagascar 3: Europe's Most Wanted\"))\n",
    "netflix_data <- mutate(netflix_data, title = recode(.x=title, \"The Sons of Sam: A Descent …\"=\"The Sons of Sam: A Descent Into Darkness\"))\n",
    "netflix_data <- mutate(netflix_data, title = recode(.x=title, \"Jupiterâs Legacy\"=\"Jupiter's Legacy\"))\n",
    "netflix_data <- mutate(netflix_data, title = recode(.x=title, \"Ãlite\"=\"Elite\"))\n",
    "netflix_data <- mutate(netflix_data, title = recode(.x=title, \"The Worldâs Most Amazing Va…\"=\"The World's Most Amazing Vacation Rentals\"))\n",
    "netflix_data <- mutate(netflix_data, title = recode(.x=title, \"Talladega Nights: The Balla…\"=\"Talladega Nights: The Ballad of Ricky Bobby\"))\n",
    "netflix_data <- mutate(netflix_data, title = recode(.x=title, \"Resident Evil: Infinite Dar…\"=\"Resident Evil: Infinite Darkness\"))\n",
    "netflix_data <- mutate(netflix_data, title = recode(.x=title, \"The Twilight Saga: Breaking…\"=\"The Twilight Saga: Breaking Dawn\"))\n",
    "netflix_data <- mutate(netflix_data, title = recode(.x=title, \"Trollhunters: Rise of the T…\"=\"Trollhunters: Rise of the Titans\"))\n",
    "netflix_data <- mutate(netflix_data, title = recode(.x=title, \"Masters of the Universe: Re…\"=\"Masters of the Universe: Revelation\"))\n",
    "netflix_data <- mutate(netflix_data, title = recode(.x=title, \"The Last Letter From Your L…\"=\"The Last Letter From Your Lover\"))\n",
    "netflix_data <- mutate(netflix_data, title = recode(.x=title, \"Top Secret UFO Projects: De…\"=\"Top Secret UFO Projects: Declassified\"))\n",
    "netflix_data <- mutate(netflix_data, title = recode(.x=title, \"Cocaine Cowboys: The Kings …\"=\"Cocaine Cowboys: The Kings of Miami\"))\n",
    "netflix_data <- mutate(netflix_data, title = recode(.x=title, \"The Witcher: Nightmare of t…\"=\"The Witcher: Nightmare of the Wolf\"))\n",
    "netflix_data <- mutate(netflix_data, title = recode(.x=title, \"Bob Ross: Happy Accidents, …\"=\"Bob Ross: Happy Accidents, Betrayal & Greed\"))\n",
    "netflix_data <- mutate(netflix_data, title = recode(.x=title, \"Heâs All That\"=\"He's All That\"))\n",
    "netflix_data <- mutate(netflix_data, title = recode(.x=title, \"Turning Point: 9/11 and the…\"=\"Turning Point: 9/11 and the War on Terror\"))\n",
    "netflix_data <- mutate(netflix_data, title = recode(.x=title, \"Monsters Inside: The 24 Fac…\"=\"Monsters Inside: The 24 Faces of Billy Milligan\"))\n",
    "netflix_data <- mutate(netflix_data, title = recode(.x=title, \"My Little Pony: A New Gener…\"=\"My Little Pony: A New Generation\"))\n",
    "netflix_data <- mutate(netflix_data, title = recode(.x=title, \"Thereâs Someone Inside Your…\"=\"There's Someone Inside Your House\"))\n",
    "netflix_data <- mutate(netflix_data, title = recode(.x=title, \"King Arthur: Legend of the …\"=\"King Arthur: Legend of the Sword\"))\n",
    "netflix_data <- mutate(netflix_data, title = recode(.x=title, \"The Princess Switch 3: Roma…\"=\"The Princess Switch 3: Romancing the Star\"))\n",
    "netflix_data <- mutate(netflix_data, title = recode(.x=title, \"Jojoâs Bizarre Adventure\"=\"Jojo's Bizarre Adventure\"))\n",
    "netflix_data <- mutate(netflix_data, title = recode(.x=title, \"A California Christmas: Cit…\"=\"A California Christmas: City Lights\"))\n",
    "netflix_data <- mutate(netflix_data, title = recode(.x=title, \"Donât Look Up\"=\"Don't Look Up\"))\n",
    "netflix_data <- mutate(netflix_data, title = recode(.x=title, \"Crime Scene: The Times Squa…\"=\"Crime Scene: The Times Square Killer\"))\n",
    "netflix_data <- mutate(netflix_data, title = recode(.x=title, \"Journey 2: The Mysterious I…\"=\"Journey 2: The Mysterious Island\"))\n",
    "netflix_data <- mutate(netflix_data, title = recode(.x=title, \"Scary Stories to Tell in th…\"=\"Scary Stories to Tell in the Dark\"))\n",
    "netflix_data <- mutate(netflix_data, title = recode(.x=title, \"The Puppet Master: Hunting …\"=\"The Puppet Master: Hunting the Ultimate Conman\"))\n",
    "netflix_data <- mutate(netflix_data, title = recode(.x=title, \"Transformers: Revenge of th…\"=\"Transformers: Revenge of the Fallen\"))\n",
    "netflix_data <- mutate(netflix_data, title = recode(.x=title, \"Tyler Perryâs A Madea Homec…\"=\"Tyler Perry's A Madea Homecoming\"))\n",
    "netflix_data <- mutate(netflix_data, title = recode(.x=title, \"Get Organized with The Home…\"=\"Get Organized with The Home Edit\"))\n",
    "netflix_data <- mutate(netflix_data, title = recode(.x=title, \"I Care a Lot.\"=\"I Care a Lot\"))\n",
    "netflix_data <- mutate(netflix_data, title = recode(.x=title, \"The Woman in the House Acro…\"=\"The Woman in the House Across the Street from the Girl in the Window\"))\n",
    "netflix_data <- mutate(netflix_data, title = recode(.x=title, \"Single all the Way\"=\"Single All the Way\"))\n",
    "netflix_data <- mutate(netflix_data, type = recode(.x=type, \"Concert/Perf…\"=\"Concert/Performance\"))\n",
    "netflix_data <- mutate(netflix_data, title = recode(.x=title, \"Chris DâElia: No Pain\"=\"Chris D'Elia: No Pain\"))\n",
    "netflix_data <- mutate(netflix_data, title = recode(.x=title, \"Bunkâd\"=\"Bunk'd\"))\n",
    "\n",
    "View(netflix_data)\n",
    "\n",
    "netflix_data <- netflix_data %>% mutate(title = tolower(title)) %>% mutate(type = tolower(type)) %>%\n",
    "  mutate(production = tolower(production))\n",
    "\n",
    "View(netflix_data)\n",
    "\n",
    "#Change coloumns to lowercase\n",
    "netflix_data <- netflix_data %>% mutate(title = tolower(title)) %>% mutate(type = tolower(type)) %>%\n",
    "  mutate(production = tolower(production))\n",
    "View(netflix_data)"
   ]
  },
  {
   "cell_type": "markdown",
   "id": "94cbd9a8",
   "metadata": {
    "papermill": {
     "duration": null,
     "end_time": null,
     "exception": null,
     "start_time": null,
     "status": "pending"
    },
    "tags": []
   },
   "source": [
    "## Analyze"
   ]
  },
  {
   "cell_type": "code",
   "execution_count": null,
   "id": "5dabb0b2",
   "metadata": {
    "papermill": {
     "duration": null,
     "end_time": null,
     "exception": null,
     "start_time": null,
     "status": "pending"
    },
    "tags": []
   },
   "outputs": [],
   "source": [
    "#Number of titles\n",
    "unique(netflix_data$title)\n",
    "\n",
    "#Top 10 titles\n",
    "title_count_top <- netflix_data %>% count(title) %>% rename(days_in_top_10 = n) %>%\n",
    "  arrange(-days_in_top_10) %>% head(10)\n",
    "View(title_count_top)\n",
    "\n",
    "# 10 least titles\n",
    "title_count_least <- netflix_data %>% count(title) %>% rename(days_in_top_10 = n) %>%\n",
    "  arrange(days_in_top_10) %>% head(10)\n",
    "View(title_count_least)\n",
    "\n",
    "#To find the Type count and Production count and unique function elimintates duplicate values\n",
    "netflix_unique <- netflix_data %>% select(title, production, type)\n",
    "View(netflix_unique)\n",
    "\n",
    "netflix_unique <- unique(netflix_unique) %>% arrange(title)\n",
    "View(netflix_unique)\n",
    "\n",
    "#Type count\n",
    "type_count <- netflix_unique %>% count(type) %>% rename(count = n)\n",
    "View(type_count)\n",
    "\n",
    "#Production count\n",
    "production_count <- netflix_unique %>% count(production) %>% rename(count = n)\n",
    "View(production_count)\n",
    "\n",
    "# Top 10 TV Shows\n",
    "tv_show <- filter(netflix_data,type==\"tv show\") %>% count(title) %>% rename(days_in_top_10 = n) %>%\n",
    "  arrange(-days_in_top_10) %>% head(10)\n",
    "View(tv_show)\n",
    "\n",
    "# Top 10 Movies\n",
    "movies <- filter(netflix_data,type==\"movie\") %>% count(title) %>% rename(days_in_top_10 = n) %>%\n",
    "  arrange(-days_in_top_10) %>% head(10)\n",
    "View(movies)\n",
    "\n",
    "# Top 6 Stand-Up Comedy\n",
    "comedy <- filter(netflix_data,type==\"stand-up comedy\") %>% count(title) %>% rename(days_in_top_10 = n) %>%\n",
    "  arrange(-days_in_top_10) %>% head(10)\n",
    "View(comedy)\n",
    "\n",
    "# 1 concert/performance\n",
    "concert_and_performance <- filter(netflix_data,type==\"concert/performance\") %>% count(title) %>% rename(days_in_top_10 = n) %>%\n",
    "  arrange(-days_in_top_10) %>% head(10)\n",
    "View(concert_and_performance)"
   ]
  },
  {
   "cell_type": "markdown",
   "id": "795ef80b",
   "metadata": {
    "papermill": {
     "duration": null,
     "end_time": null,
     "exception": null,
     "start_time": null,
     "status": "pending"
    },
    "tags": []
   },
   "source": [
    "## Visualize"
   ]
  },
  {
   "cell_type": "code",
   "execution_count": null,
   "id": "8ab1e35f",
   "metadata": {
    "papermill": {
     "duration": null,
     "end_time": null,
     "exception": null,
     "start_time": null,
     "status": "pending"
    },
    "tags": []
   },
   "outputs": [],
   "source": [
    "# Visualization\n",
    "\n",
    "#Title visualization and based on research and inspirations fct_rev reverse the order of the Levels of a factor.\n",
    "ggplot(data = title_count_top) +\n",
    "  geom_col(mapping = aes(x=fct_rev(fct_reorder(title, days_in_top_10)), y=days_in_top_10, fill=days_in_top_10)) +\n",
    "  labs(title = \"Top 10 Titles\", x=NULL, y=\"Number of days\" ) +\n",
    "  theme(legend.position = \"none\") +\n",
    "  theme(axis.text.x = element_text(angle = 45, vjust = 1, hjust = 1)) +\n",
    "  geom_text(aes(x= title, y = days_in_top_10, label = days_in_top_10, vjust = 0))\n",
    "    \n",
    "ggplot(data = title_count_least) +\n",
    "  geom_col(mapping = aes(x=fct_rev(fct_reorder(title, days_in_top_10)), y=days_in_top_10, fill=days_in_top_10)) +\n",
    "  labs(title = \"Top 10 Least Titles\", x=NULL, y=\"Number of days\" ) +\n",
    "  theme(legend.position = \"none\") +\n",
    "  theme(axis.text.x = element_text(angle = 45, vjust = 1, hjust = 1)) +\n",
    "  geom_text(aes(x= title, y = days_in_top_10, label = days_in_top_10, vjust = 0))\n",
    "    \n",
    "#Type visualization\n",
    "ggplot(data=type_count) +\n",
    "  geom_col(mapping = aes(x= fct_rev(fct_reorder(type, count)), y=count, fill=count)) +\n",
    "  labs(title = \"Types Count\", x = \"Types\", y = \"Count\")+\n",
    "  theme(legend.position = \"none\") +\n",
    "  geom_text(aes(x= type, y = count, label = count, vjust = -0.2))\n",
    "\n",
    "#Production visualization\n",
    "ggplot(data=production_count) +\n",
    "  geom_col(mapping = aes(x= fct_rev(fct_reorder(production, count)), y=count, fill=count)) +\n",
    "  labs(title = \"Production Count\", x = NULL, y = \"Count\") +\n",
    "  theme(legend.position = \"none\") +\n",
    "  geom_text(aes(x=production, y = count, label = count, vjust = -0.2))\n",
    "\n",
    "#Top 10 Tv Shows Viz\n",
    "ggplot(data = tv_show) +\n",
    "  geom_col(mapping = aes(x=fct_rev(fct_reorder(title, days_in_top_10)), y=days_in_top_10, fill=days_in_top_10)) +\n",
    "  labs(title = \"Top 10 TV Shows\", x=NULL, y=\"Number of days\" ) +\n",
    "  theme(legend.position = \"none\") +\n",
    "  theme(axis.text.x = element_text(angle = 45, vjust = 1, hjust = 1)) +\n",
    "  geom_text(aes(x= title, y = days_in_top_10, label = days_in_top_10, vjust = 0))\n",
    "    \n",
    "#Top 10 Movies\n",
    "ggplot(data = movies) +\n",
    "  geom_col(mapping = aes(x=fct_rev(fct_reorder(title, days_in_top_10)), y=days_in_top_10, fill=days_in_top_10)) +\n",
    "  labs(title = \"Top 10 Movies\", x=NULL, y=\"Number of days\" ) +\n",
    "  theme(legend.position = \"none\") +\n",
    "  theme(axis.text.x = element_text(angle = 45, vjust = 1, hjust = 1)) +\n",
    "  geom_text(aes(x= title, y = days_in_top_10, label = days_in_top_10, vjust = 0))\n",
    "    \n",
    "#Top 6 Stand-up Comedy\n",
    "ggplot(data = comedy) +\n",
    "  geom_col(mapping = aes(x=fct_rev(fct_reorder(title, days_in_top_10)), y=days_in_top_10, fill=days_in_top_10)) +\n",
    "  labs(title = \"Top 6 Stand-Up Comedy\", x=NULL, y=\"Number of days\" ) +\n",
    "  theme(legend.position = \"none\") +\n",
    "  theme(axis.text.x = element_text(angle = 45, vjust = 1, hjust = 1)) +\n",
    "  geom_text(aes(x= title, y = days_in_top_10, label = days_in_top_10, vjust = 0))"
   ]
  },
  {
   "cell_type": "markdown",
   "id": "dce72208",
   "metadata": {
    "papermill": {
     "duration": null,
     "end_time": null,
     "exception": null,
     "start_time": null,
     "status": "pending"
    },
    "tags": []
   },
   "source": [
    "# Findings\n",
    "1. There are 595 titles.\n",
    "2. Cocomelon had the highest number of days during the pandemic. All other titles on the top 10 titles had way less number of days than Cocomelon.\n",
    "3. 377 of the titles are Netflix exclusive.\n",
    "4. Movie is the most watched type.\n",
    "5. The top 10 Tv shows were Cocomelon, Manifest, Queen's Gambit, Outer banks, Squid game, All American, Bridgerton, Cobra Kai, Lucifer and Virgin River\n",
    "6. Top 10 Movies were The Mitchell vs. The machines, How the grinch stole christmas, Vivo, 365 days, Illumination presents the grinch. The Christmas Chronicles 2, We can be heroes, Red notice, The Unforgivable and Home\n",
    "7. Top 6 Stand-Up Comedy were Dave Chappelle: The Closer, Kevin Hartz: Zero fucks given, George Lopez: We'll do it for half, Chris D'elia: No Pain, Bo Burnham: Inside"
   ]
  }
 ],
 "metadata": {
  "kernelspec": {
   "display_name": "R",
   "language": "R",
   "name": "ir"
  },
  "language_info": {
   "codemirror_mode": "r",
   "file_extension": ".r",
   "mimetype": "text/x-r-source",
   "name": "R",
   "pygments_lexer": "r",
   "version": "3.6.0"
  },
  "papermill": {
   "default_parameters": {},
   "duration": null,
   "end_time": null,
   "environment_variables": {},
   "exception": null,
   "input_path": "__notebook__.ipynb",
   "output_path": "__notebook__.ipynb",
   "parameters": {},
   "start_time": "2022-06-01T08:49:23.318566",
   "version": "2.3.4"
  }
 },
 "nbformat": 4,
 "nbformat_minor": 5
}